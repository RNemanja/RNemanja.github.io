{
 "cells": [
  {
   "cell_type": "markdown",
   "metadata": {},
   "source": [
    "# Policy Gradient explained. Properly."
   ]
  },
  {
   "cell_type": "markdown",
   "metadata": {},
   "source": [
    "Most of blogs that try to explain RL approaches somehow either explain concepts on a very low level and/or just jumo in to complicated Deep examples. The research papers usually just explain concepts on a high level with maybe some pseudocode which is not straightforward to implement. Code implementations on GitHub are usually made to be self-contained and are complicated/require a lot of time to actually find basic examples.\n",
    "\n",
    "These are the reasons why I decided to make a basic step-by-step introduction, as well as to make a reminder for myself. Also, I needed to practice converting EQUATIONS to CODE."
   ]
  },
  {
   "cell_type": "markdown",
   "metadata": {},
   "source": [
    "## Policy gradient approach"
   ]
  },
  {
   "cell_type": "markdown",
   "metadata": {},
   "source": [
    "In reinforcement learning...\n",
    "\n",
    "We want to minimise some cost function, in our case the expected value of the returns during some trajectory\n",
    "\\begin{equation}\n",
    "\\label{eq:sedov}\n",
    "R(t)= A \\left(\\frac{E_0}{\\rho_0}\\right)^{1/5}t^{2/5}\n",
    "\\end{equation}\n"
   ]
  },
  {
   "cell_type": "code",
   "execution_count": null,
   "metadata": {
    "collapsed": true
   },
   "outputs": [],
   "source": []
  }
 ],
 "metadata": {
  "kernelspec": {
   "display_name": "Python 3",
   "language": "python",
   "name": "python3"
  },
  "language_info": {
   "codemirror_mode": {
    "name": "ipython",
    "version": 3
   },
   "file_extension": ".py",
   "mimetype": "text/x-python",
   "name": "python",
   "nbconvert_exporter": "python",
   "pygments_lexer": "ipython3",
   "version": "3.6.1"
  }
 },
 "nbformat": 4,
 "nbformat_minor": 2
}
