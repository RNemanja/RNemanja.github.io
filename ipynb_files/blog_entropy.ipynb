{
 "cells": [
  {
   "cell_type": "markdown",
   "metadata": {},
   "source": [
    "# Understanding Entropy"
   ]
  },
  {
   "cell_type": "markdown",
   "metadata": {},
   "source": [
    "Whenever we talk about probabilities and random variables, there is always the notion of Entropy.\n",
    "\n",
    "Intuitively, Entropy of a variable or probability can be explaned  __the amount of information they carry__, or, __the amount of surprise we can expect__.\n",
    "\n",
    "How are these two related?\n",
    "\n",
    "Let's say we have a random variable $\\large a$ which can take 4 values $\\large a = [0, 1, 2, 3]$ with probabilities $\\large p(a) = [0.25, 0.25, 0.25, 0.25]$.\n",
    "\n",
    "If we wanted to compress $\\large a$ to use as least digits as possible, we could convert it to binary $\\large a = [00, 01, 10, 11]$. In order to fully describe __the information about $\\large a$__ we need __2 bits__ - and that's the Entropy of $\\large a$!\n",
    "\n",
    "What about surprise?\n",
    "\n",
    "So our Entropy of $\\large a$ is __2__, let's say our __measure of surprise__ carried by $\\large a$ is 2, and this is the surprise we would feel if we saw any of the elements of $\\large a = [0, 1, 2, 3]$.\n",
    "\n",
    "If be now introduce another random variable $\\large b = [0, 1, 2, ... , 255]$, it will have more elements and they will be more \"rare\" so whenever we see one of them, we will be more surprised than when drawing one element from $\\large a$ which has only 4 elements.\n",
    "\n",
    "If we apply the logic from before, $\\large b$ can be described with __8 bits__ so the Entropy (or surprise) is __8__. \n",
    "\n",
    "\n"
   ]
  },
  {
   "cell_type": "code",
   "execution_count": null,
   "metadata": {
    "collapsed": true
   },
   "outputs": [],
   "source": []
  }
 ],
 "metadata": {
  "kernelspec": {
   "display_name": "Python 3",
   "language": "python",
   "name": "python3"
  },
  "language_info": {
   "codemirror_mode": {
    "name": "ipython",
    "version": 3
   },
   "file_extension": ".py",
   "mimetype": "text/x-python",
   "name": "python",
   "nbconvert_exporter": "python",
   "pygments_lexer": "ipython3",
   "version": "3.6.1"
  }
 },
 "nbformat": 4,
 "nbformat_minor": 2
}
